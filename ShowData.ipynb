{
 "cells": [
  {
   "cell_type": "code",
   "execution_count": null,
   "metadata": {},
   "outputs": [],
   "source": [
    "%pylab inline\n",
    "%matplotlib inline\n",
    "import os\n",
    "import numpy as np\n",
    "import pandas as pd\n",
    "import matplotlib.pyplot as plt\n",
    "import matplotlib.image as mpimg\n",
    "import torch.utils.data\n",
    "from PIL import Image\n",
    "from torchvision import transforms \n",
    "from tqdm import tqdm_notebook as tqdm\n",
    "from facenet_pytorch import MTCNN, InceptionResnetV1"
   ]
  },
  {
   "cell_type": "code",
   "execution_count": null,
   "metadata": {},
   "outputs": [],
   "source": [
    "# 使用cuda运算\n",
    "os.environ['CUDA_VISIBLE_DEVICES'] ='0' # 设置跑第几个GPU\n",
    "# device=torch.device(\"cuda\")\n",
    "device = torch.device('cuda:0' if torch.cuda.is_available() else 'cpu')\n",
    "print('Running on device: {}'.format(device))"
   ]
  },
  {
   "cell_type": "markdown",
   "metadata": {},
   "source": [
    "# 读取单张图片 （按照split.txt读取YTF人脸数据）"
   ]
  },
  {
   "cell_type": "code",
   "execution_count": null,
   "metadata": {},
   "outputs": [],
   "source": [
    "mtcnn = MTCNN(device=device)\n",
    "resnet = InceptionResnetV1(pretrained='vggface2').eval()"
   ]
  },
  {
   "cell_type": "code",
   "execution_count": null,
   "metadata": {
    "scrolled": true
   },
   "outputs": [],
   "source": [
    "img = Image.open('../aligned_images_DB/Aaron_Eckhart/1/aligned_detect_1.231.jpg')\n",
    "img = Image.open('./81899286.jpg')\n",
    "plt.imshow(img)"
   ]
  },
  {
   "cell_type": "code",
   "execution_count": null,
   "metadata": {},
   "outputs": [],
   "source": [
    "# 测试split文件\n",
    "split_df = pd.read_csv('../splits.txt')\n",
    "print(split_df.iloc[0, 3])\n",
    "# sub_df = split_df[split_df['split number'] != 10]\n",
    "# os.listdir('../frame_images_DB/Carol_Burnett/3')\n",
    "# sub_df[' first name'].iloc[0]\n",
    "# sub_df[' second name'].iloc[0]\n",
    "# sub_df[' is same:'].iloc[0]\n",
    "# sub_df.iloc[0, 3]\n",
    "# sub_df.iloc[0, 3]\n"
   ]
  },
  {
   "cell_type": "markdown",
   "metadata": {},
   "source": [
    "### 继承Dataset类"
   ]
  },
  {
   "cell_type": "code",
   "execution_count": null,
   "metadata": {},
   "outputs": [],
   "source": [
    "class YouTubeBeDatasetIdentification(torch.utils.data.Dataset):\n",
    "    def __init__(self, path=\"../aligned_images_DB\", num_frames=5, train=True\n",
    "                 , person_frames=400, seed=40,step=4, **kwargs):\n",
    "\n",
    "        \"\"\"\n",
    "         Initia the Dataset, load all image path to array.\n",
    "         Args:\n",
    "             path (string): Directory with all face images.\n",
    "             num_frames (int): Frames each person\n",
    "             train : If traning model\n",
    "             transform (callable, optional): Optional transform to be applied\n",
    "                 on a sample.\n",
    "             person_frames: take how much frames each person (person_frames=person_video*videp_frames)\n",
    "         \"\"\"\n",
    "\n",
    "        # super().__init__(**kwargs)\n",
    "        path = os.path.abspath(path)\n",
    "        self.path = path\n",
    "        self.num_frames = num_frames\n",
    "        self.step = step\n",
    "        self.training = train\n",
    "        self.person_frames = person_frames\n",
    "        self.seed=seed\n",
    "        np.random.seed(seed=self.seed)\n",
    "\n",
    "        self.transforms1 = transforms.Compose([\n",
    "            #                 transforms.Resize((256,256)),\n",
    "            transforms.CenterCrop(int(160)),\n",
    "            transforms.ToTensor(),\n",
    "            #                 transforms.Normalize(mean=[0.485, 0.456, 0.406], std=[0.229, 0.224, 0.225]),\n",
    "        ])\n",
    "\n",
    "        # get all directories for different people  (include absolute path)\n",
    "        all_dir = [os.path.join(path, f) for f in os.listdir(path) if os.path.isdir(os.path.join(path, f))]\n",
    "        all_dir_path = []\n",
    "        for person_dir in all_dir:  # person_dir  一个人的视频所在的大文件夹\n",
    "            path_video_dirs = []\n",
    "            video_dirs = [d for d in os.listdir(person_dir) if os.path.isdir(os.path.join(person_dir, d))]\n",
    "            # video_dirs 一个人的所有视频的n个文件夹(not include absolute path)\n",
    "            video_dirs.sort()\n",
    "            # 遍历每个人的所有的视频\n",
    "            for video_dir in video_dirs:\n",
    "                face_dirs = []\n",
    "                img_dir = os.path.join(person_dir, video_dir)  # include absolute path\n",
    "                fs = [f for f in os.listdir(img_dir) if\n",
    "                      f.lower().endswith('.jpg')]  # get all img  (not include absolute path)\n",
    "                fs.sort()\n",
    "                for f in fs:  # 遍历每个视频的所有图片\n",
    "                    # TODO:   filter some image with a stride\n",
    "                    #                     index=np.random.choice(len(video_dirs), 1)[0]\n",
    "                    #                     os.path.join(img_dir,fs[index])\n",
    "                    face_dirs.append(os.path.join(img_dir, f))\n",
    "\n",
    "                path_video_dirs.append(face_dirs)\n",
    "            all_dir_path.append(path_video_dirs)  # put all people face together\n",
    "        self.all_dir_path = all_dir_path\n",
    "\n",
    "\n",
    "    def __len__(self):\n",
    "        return len(self.all_dir_path)*self.person_frames\n",
    "\n",
    "\n",
    "    def __getitem__(self, idx):\n",
    "        # 设置每个人取 400张图片\n",
    "        person_idx = idx // self.person_frames\n",
    "        label = person_idx\n",
    "        \n",
    "        person_dir=self.all_dir_path[person_idx]\n",
    "\n",
    "        \n",
    "        idx=np.random.choice(len(person_dir))\n",
    "        video_dir = person_dir[idx]\n",
    "        \n",
    "        idx=np.random.choice(len(video_dir))\n",
    "        imgpath=video_dir[idx]\n",
    "        name = os.path.basename(os.path.dirname(os.path.dirname(imgpath)))\n",
    "        \n",
    "        img = Image.open(imgpath)\n",
    "        img = self.transforms1(img)\n",
    "        img = torch.tensor(img)\n",
    "        return img,label,name"
   ]
  },
  {
   "cell_type": "code",
   "execution_count": null,
   "metadata": {},
   "outputs": [],
   "source": [
    "batch_size=3\n",
    "dataset = YouTubeBeDatasetIdentification()\n",
    "# dataset1 =YouTubeBeDataset()\n",
    "dataload = torch.utils.data.DataLoader(dataset,shuffle=True,batch_size=batch_size,num_workers=2)\n",
    "len(dataset)"
   ]
  },
  {
   "cell_type": "code",
   "execution_count": null,
   "metadata": {},
   "outputs": [],
   "source": [
    "g2=iter(dataload)"
   ]
  },
  {
   "cell_type": "code",
   "execution_count": null,
   "metadata": {
    "scrolled": true
   },
   "outputs": [],
   "source": [
    "%%time\n",
    "x1,y,name=next(g2)\n",
    "print('data shape',x1.shape,y)"
   ]
  },
  {
   "cell_type": "markdown",
   "metadata": {},
   "source": [
    "### 展示数据"
   ]
  },
  {
   "cell_type": "code",
   "execution_count": null,
   "metadata": {
    "scrolled": true
   },
   "outputs": [],
   "source": [
    "x1_np = x1.numpy().transpose(0,2,3,1)\n",
    "plt.imshow(x1_np[1])\n",
    "print(\"name rank:\",y[1],'name:',name[1])"
   ]
  },
  {
   "cell_type": "code",
   "execution_count": null,
   "metadata": {},
   "outputs": [],
   "source": [
    "# img=x1.numpy().transpose(0,1,3,4,2)[0,:]\n",
    "# # Get cropped and prewhitened image tensor\n",
    "# # img_cropped = mtcnn(img)\n",
    "\n",
    "# # Calculate embedding (unsqueeze to add batch dimension)\n",
    "# img_embedding = resnet(img_cropped.unsqueeze(0))\n",
    "\n",
    "# # Or, if using for VGGFace2 classification\n",
    "# resnet.classify = True\n",
    "# img_probs = resnet(img_cropped.unsqueeze(0))"
   ]
  },
  {
   "cell_type": "markdown",
   "metadata": {},
   "source": [
    "# 读取RGB和帧间差"
   ]
  },
  {
   "cell_type": "code",
   "execution_count": 1,
   "metadata": {},
   "outputs": [
    {
     "name": "stdout",
     "output_type": "stream",
     "text": [
      "Populating the interactive namespace from numpy and matplotlib\n"
     ]
    }
   ],
   "source": [
    "%pylab inline\n",
    "%matplotlib inline\n",
    "import os\n",
    "import numpy as np\n",
    "import pandas as pd\n",
    "import matplotlib.pyplot as plt\n",
    "import matplotlib.image as mpimg\n",
    "import torch.utils.data\n",
    "from PIL import Image\n",
    "from torchvision import transforms "
   ]
  },
  {
   "cell_type": "code",
   "execution_count": 2,
   "metadata": {},
   "outputs": [],
   "source": [
    "class YTBDatasetCNNwithDisplament(torch.utils.data.Dataset):\n",
    "    def __init__(self, path=\"../aligned_images_DB\", train=True,step = 6,person_frames=400, seed=40, **kwargs):\n",
    "\n",
    "        \"\"\"\n",
    "         Initia the Dataset, load two kind of training source from image.\n",
    "         Args:\n",
    "             path (string): Directory with all face images.\n",
    "             num_frames (int): Frames each person\n",
    "             train : If traning model\n",
    "             transform (callable, optional): Optional transform to be applied\n",
    "                 on a sample.\n",
    "             person_frames: take how much frames each person (person_frames=person_video*videp_frames)\n",
    "         \"\"\"\n",
    "\n",
    "        # super().__init__(**kwargs)\n",
    "        path = os.path.abspath(path)\n",
    "        self.path = path\n",
    "        self.step = step\n",
    "        self.training = train\n",
    "        self.person_frames = person_frames\n",
    "        self.seed=seed\n",
    "        np.random.seed(seed=self.seed)\n",
    "\n",
    "        self.transforms1 = transforms.Compose([\n",
    "            #                 transforms.Resize((256,256)),\n",
    "            transforms.CenterCrop(int(160)),\n",
    "            transforms.ToTensor(),\n",
    "#             transforms.Normalize(mean=[104, 117, 128], std=[1]),\n",
    "            transforms.Normalize(mean=[0.485, 0.456, 0.406], std=[0.229, 0.224, 0.225]),\n",
    "        ])\n",
    "        \n",
    "\n",
    "\n",
    "        # get all directories for different people  (include absolute path)\n",
    "        all_dir = [os.path.join(path, f) for f in os.listdir(path) if os.path.isdir(os.path.join(path, f))]\n",
    "        all_dir_path = []\n",
    "        for person_dir in all_dir:  # person_dir  一个人的视频所在的大文件夹\n",
    "            path_video_dirs = []\n",
    "            video_dirs = [d for d in os.listdir(person_dir) if os.path.isdir(os.path.join(person_dir, d))]\n",
    "            # video_dirs 一个人的所有视频的n个文件夹(not include absolute path)\n",
    "            video_dirs.sort()\n",
    "            # 遍历每个人的所有的视频\n",
    "            for video_dir in video_dirs:\n",
    "                face_dirs = []\n",
    "                img_dir = os.path.join(person_dir, video_dir)  # include absolute path\n",
    "                fs = [f for f in os.listdir(img_dir) if\n",
    "                      f.lower().endswith('.jpg')]  # get all img  (not include absolute path)\n",
    "                fs.sort()\n",
    "                for f in fs:  # 遍历每个视频的所有图片\n",
    "                    # TODO:   filter some image with a stride\n",
    "                    #                     index=np.random.choice(len(video_dirs), 1)[0]\n",
    "                    #                     os.path.join(img_dir,fs[index])\n",
    "                    face_dirs.append(os.path.join(img_dir, f))\n",
    "\n",
    "                path_video_dirs.append(face_dirs)\n",
    "            all_dir_path.append(path_video_dirs)  # put all people face together\n",
    "        self.all_dir_path = all_dir_path\n",
    "\n",
    "\n",
    "    def __len__(self):\n",
    "        return len(self.all_dir_path)*self.person_frames\n",
    "\n",
    "\n",
    "    def __getitem__(self, idx):\n",
    "        # 设置每个人取 400张图片\n",
    "        person_idx = idx // self.person_frames\n",
    "        label = person_idx\n",
    "        \n",
    "        person_dir=self.all_dir_path[person_idx]\n",
    "\n",
    "        \n",
    "        idx=np.random.choice(len(person_dir))\n",
    "        video_dir = person_dir[idx]\n",
    "        \n",
    "        idx=np.random.choice(len(video_dir)-self.step)\n",
    "        imgpath=video_dir[idx]\n",
    "        imgpath2=video_dir[idx+self.step]\n",
    "        \n",
    "        img = Image.open(imgpath)\n",
    "        img = self.transforms1(img)\n",
    "        img2 = Image.open(imgpath2)\n",
    "        img2 = self.transforms1(img2)\n",
    "        displacement=img-img2\n",
    "        return img,displacement,label"
   ]
  },
  {
   "cell_type": "code",
   "execution_count": 3,
   "metadata": {},
   "outputs": [],
   "source": [
    "batch_size=4\n",
    "dataset = YTBDatasetCNNwithDisplament()\n",
    "# dataset1 =YouTubeBeDataset()\n",
    "dataload = torch.utils.data.DataLoader(dataset,shuffle=True,batch_size=batch_size,num_workers=2)\n",
    "len(dataset)\n",
    "generator=iter(dataload)"
   ]
  },
  {
   "cell_type": "code",
   "execution_count": 4,
   "metadata": {},
   "outputs": [
    {
     "name": "stdout",
     "output_type": "stream",
     "text": [
      "data shape torch.Size([4, 3, 160, 160]) torch.Size([4, 3, 160, 160]) torch.Size([4])\n",
      "CPU times: user 4.02 ms, sys: 4.01 ms, total: 8.03 ms\n",
      "Wall time: 127 ms\n"
     ]
    }
   ],
   "source": [
    "%%time\n",
    "x1,d,label=next(generator)\n",
    "print('data shape',x1.shape,d.shape,label.shape)"
   ]
  },
  {
   "cell_type": "markdown",
   "metadata": {},
   "source": [
    "### 展示数据"
   ]
  },
  {
   "cell_type": "code",
   "execution_count": 5,
   "metadata": {},
   "outputs": [
    {
     "name": "stderr",
     "output_type": "stream",
     "text": [
      "Clipping input data to the valid range for imshow with RGB data ([0..1] for floats or [0..255] for integers).\n",
      "Clipping input data to the valid range for imshow with RGB data ([0..1] for floats or [0..255] for integers).\n"
     ]
    },
    {
     "data": {
      "text/plain": [
       "<matplotlib.image.AxesImage at 0x7fe839f641d0>"
      ]
     },
     "execution_count": 5,
     "metadata": {},
     "output_type": "execute_result"
    },
    {
     "data": {
      "image/png": "[encoded data removed]",
      "text/plain": [
       "<Figure size 648x648 with 2 Axes>"
      ]
     },
     "metadata": {
      "needs_background": "light"
     },
     "output_type": "display_data"
    }
   ],
   "source": [
    "x1,d,label=next(generator)\n",
    "x1_np = x1.numpy().transpose(0,2,3,1)\n",
    "d_np= d.numpy().transpose(0,2,3,1)\n",
    "fig, axs = plt.subplots(1,2, figsize=(9, 9), sharey=True)\n",
    "axs[0].imshow(x1_np[0])\n",
    "axs[1].imshow(d_np[0])"
   ]
  },
  {
   "cell_type": "code",
   "execution_count": null,
   "metadata": {},
   "outputs": [],
   "source": []
  }
 ],
 "metadata": {
  "kernelspec": {
   "display_name": "Python 3",
   "language": "python",
   "name": "python3"
  },
  "language_info": {
   "codemirror_mode": {
    "name": "ipython",
    "version": 3
   },
   "file_extension": ".py",
   "mimetype": "text/x-python",
   "name": "python",
   "nbconvert_exporter": "python",
   "pygments_lexer": "ipython3",
   "version": "3.6.8"
  }
 },
 "nbformat": 4,
 "nbformat_minor": 2
}
