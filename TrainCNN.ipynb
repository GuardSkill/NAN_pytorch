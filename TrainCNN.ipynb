{
 "cells": [
  {
   "cell_type": "markdown",
   "metadata": {},
   "source": [
    "# 训练模型测试"
   ]
  },
  {
   "cell_type": "code",
   "execution_count": 3,
   "metadata": {},
   "outputs": [],
   "source": [
    "import os\n",
    "from torchvision import transforms \n",
    "import torch.nn as nn\n",
    "import torch\n",
    "from tqdm import tqdm_notebook as tqdm\n",
    "from Dataset import YTBDatasetCNN\n",
    "from Network import CNNNet"
   ]
  },
  {
   "cell_type": "code",
   "execution_count": 4,
   "metadata": {},
   "outputs": [],
   "source": [
    "os.environ['CUDA_VISIBLE_DEVICES'] ='2' # 设置跑第几个GPU\n",
    "# 使用cuda运算\n",
    "device=torch.device(\"cuda\")"
   ]
  },
  {
   "cell_type": "markdown",
   "metadata": {},
   "source": [
    "### 初始化数据集"
   ]
  },
  {
   "cell_type": "code",
   "execution_count": null,
   "metadata": {},
   "outputs": [],
   "source": [
    "dataset = YTBDatasetCNN(root_dir='../aligned_images_DB', img_size=224)\n",
    "dataload = torch.utils.data.DataLoader(dataset, shuffle=True, batch_size=16, num_workers=4)"
   ]
  },
  {
   "cell_type": "markdown",
   "metadata": {},
   "source": [
    "### 初始化萌新（模型）"
   ]
  },
  {
   "cell_type": "code",
   "execution_count": null,
   "metadata": {},
   "outputs": [],
   "source": [
    "model=CNNNet().to(device)\n",
    "model = model.train()\n",
    "# if os.path.exists(\"model.acc.pth\"):\n",
    "#     model.load_state_dict(torch.load(\"model.acc.pth\"))"
   ]
  },
  {
   "cell_type": "markdown",
   "metadata": {},
   "source": [
    "### 查看可以更新的参数"
   ]
  },
  {
   "cell_type": "code",
   "execution_count": null,
   "metadata": {},
   "outputs": [],
   "source": [
    "for name, param in model.named_parameters():\n",
    "  if param.requires_grad:\n",
    "    print(name)"
   ]
  },
  {
   "cell_type": "markdown",
   "metadata": {},
   "source": [
    "### 读取存储好的CNN模型权值"
   ]
  },
  {
   "cell_type": "code",
   "execution_count": null,
   "metadata": {},
   "outputs": [],
   "source": [
    " model.load_state_dict(torch.load(\"./checkpoints/cnn_modelacc0.9982.pth\"))"
   ]
  },
  {
   "cell_type": "markdown",
   "metadata": {},
   "source": [
    "# 训练"
   ]
  },
  {
   "cell_type": "code",
   "execution_count": null,
   "metadata": {
    "scrolled": true
   },
   "outputs": [],
   "source": [
    "# model.init_weights()\n",
    "acc_max = 0\n",
    "# optimizer = torch.optim.Adadelta(model.parameters(),lr=0.05)\n",
    "optimizer =torch.optim.RMSprop(model.parameters(),lr=0.01)\n",
    "# optimizer=torch.optim.Adagrad(model.parameters(), lr=0.0005, lr_decay=0, weight_decay=0, initial_accumulator_value=0)\n",
    "for epoch in range(300):\n",
    "    total_loss = 0\n",
    "    total_acc = 0\n",
    "    total_size = 0\n",
    "    bar = tqdm(dataload)\n",
    "    for i, (x, y, _) in enumerate(bar):\n",
    "        optimizer.zero_grad()\n",
    "        x, y = x.to(device), y.to(device)\n",
    "        # label=y.unsqueeze(1)\n",
    "        # In your for loop\n",
    "        # label_one_hot.scatter_(1, label, 1)\n",
    "        loss, acc_num = model.process(x, y)\n",
    "        total_size += x.size(0)\n",
    "        loss.backward()\n",
    "        optimizer.step()\n",
    "        # b=pred.item()\n",
    "        total_acc += acc_num\n",
    "        total_loss += loss.item()\n",
    "\n",
    "        bar.set_postfix(loss=f\"{total_loss/(i+1):0.4f}\",\n",
    "                        acc=f\"{total_acc/total_size:0.4f}\",\n",
    "                        epoch=f\"{epoch+1}\")\n",
    "    acc = total_acc / total_size\n",
    "    torch.save(model.state_dict(), \"cnn_model.pth\")\n",
    "    if acc_max < acc:\n",
    "        acc_max = max(total_acc / total_size, acc_max)\n",
    "        torch.save(model.state_dict(), f\"./checkpoints/cnn_model_acc{acc_max:0.4f}.pth\")\n",
    "#     if acc>0.8:\n",
    "#         optimizer = torch.optim.Adadelta(model.parameters(),lr=1-acc)"
   ]
  },
  {
   "cell_type": "markdown",
   "metadata": {},
   "source": [
    "# 新方法的训练(RBG_diffenrence)"
   ]
  },
  {
   "cell_type": "code",
   "execution_count": null,
   "metadata": {},
   "outputs": [],
   "source": [
    "from tqdm import tqdm_notebook as tqdm\n",
    "\n",
    "import os\n",
    "import torch\n",
    "from Dataset import  YTBDatasetCNN_RGBDiff\n",
    "from Network import  CNN_RGBDiff\n",
    "os.environ['CUDA_VISIBLE_DEVICES'] = '1'  # 设置跑第几个GPU\n",
    "device = torch.device(\"cuda\")"
   ]
  },
  {
   "cell_type": "code",
   "execution_count": null,
   "metadata": {},
   "outputs": [],
   "source": [
    "batch_size = 16\n",
    "dataset = YTBDatasetCNN_RGBDiff(csv_file='../splits.txt', root_dir='../aligned_images_DB', img_size=224)\n",
    "num_class=int(len(dataset)/dataset.person_frames)\n",
    "dataload = torch.utils.data.DataLoader(dataset, shuffle=True, batch_size=batch_size, num_workers=2)\n",
    "model = CNN_RGBDiff(class_num=num_class).to(device)\n",
    "len(dataset)"
   ]
  },
  {
   "cell_type": "code",
   "execution_count": null,
   "metadata": {},
   "outputs": [],
   "source": [
    "model.load_state_dict(torch.load(\"./checkpoints/cnn_RGBdiffer_model_acc0.9494.pth\"))"
   ]
  },
  {
   "cell_type": "code",
   "execution_count": null,
   "metadata": {},
   "outputs": [],
   "source": [
    "model = model.train()\n",
    "for name, param in model.named_parameters():\n",
    "    if param.requires_grad:\n",
    "        print(name)\n",
    "\n",
    "        acc_max = 0"
   ]
  },
  {
   "cell_type": "code",
   "execution_count": null,
   "metadata": {},
   "outputs": [],
   "source": [
    "# optimizer = torch.optim.RMSprop(model.parameters(), lr=0.5,weight_decay=1e-4)\n",
    "optimizer=torch.optim.RMSprop(model.parameters(), lr=1e-3, weight_decay=1e-9)   \n",
    "# label_one_hot = torch.LongTensor(batch_size,  num_class).to(device)\n",
    "# label_one_hot.zero_()\n",
    "for epoch in range(300):\n",
    "    total_loss = 0\n",
    "    total_acc = 0\n",
    "    total_size = 0\n",
    "    bar = tqdm(dataload)\n",
    "    for i, (x, d, y) in enumerate(bar):\n",
    "        optimizer.zero_grad()\n",
    "        x,d, y = x.to(device),d.to(device), y.to(device)\n",
    "\n",
    "        x=torch.cat([x,d],dim=1)\n",
    "        # label=y.unsqueeze(1)\n",
    "        # In your for loop\n",
    "        # label_one_hot.scatter_(1, label, 1)\n",
    "        loss, acc_num = model.process(x, y)\n",
    "        total_size += x.size(0)\n",
    "        loss.backward()\n",
    "        optimizer.step()\n",
    "        # b=pred.item()\n",
    "        total_acc += acc_num\n",
    "        total_loss += loss.item()\n",
    "\n",
    "        bar.set_postfix(loss=f\"{total_loss/(i+1):0.4f}\",\n",
    "                        acc=f\"{total_acc/total_size:0.4f}\",\n",
    "                        epoch=f\"{epoch+1}\")\n",
    "    acc = total_acc / total_size\n",
    "    torch.save(model.state_dict(), \"cnn_RGBdiffer_model.pth\")\n",
    "    if acc > 0.8:\n",
    "        torch.optim.RMSprop(model.parameters(), lr=1-acc, weight_decay=1e-3)\n",
    "    if acc >0.9:\n",
    "        torch.optim.RMSprop(model.parameters(), lr=1e-2, weight_decay=1e-4)    \n",
    "    if acc >0.95:\n",
    "        torch.optim.RMSprop(model.parameters(), lr=1e-4, weight_decay=1e-7)\n",
    "    if acc_max < acc:\n",
    "        acc_max = max(total_acc / total_size, acc_max)\n",
    "        torch.save(model.state_dict(), f\"./checkpoints/cnn_RGBdiffer_model_acc{acc_max:0.4f}.pth\")"
   ]
  },
  {
   "cell_type": "markdown",
   "metadata": {},
   "source": [
    "### 换CNN的训练"
   ]
  },
  {
   "cell_type": "code",
   "execution_count": 5,
   "metadata": {},
   "outputs": [],
   "source": [
    "from tqdm import tqdm_notebook as tqdm\n",
    "import os\n",
    "import torch\n",
    "from Dataset import  YTBDatasetCNN\n",
    "from Network import  CNNNet\n",
    "os.environ['CUDA_VISIBLE_DEVICES'] = '1'  # 设置跑第几个GPU \n",
    "device = torch.device(\"cuda\")"
   ]
  },
  {
   "cell_type": "code",
   "execution_count": 6,
   "metadata": {},
   "outputs": [
    {
     "data": {
      "text/plain": [
       "638000"
      ]
     },
     "execution_count": 6,
     "metadata": {},
     "output_type": "execute_result"
    }
   ],
   "source": [
    "batch_size = 32\n",
    "dataset = YTBDatasetCNN(csv_file='../splits.txt', root_dir='../aligned_images_DB', img_size=224)\n",
    "num_class=int(len(dataset)/dataset.person_frames)\n",
    "dataload = torch.utils.data.DataLoader(dataset, shuffle=True, batch_size=batch_size, num_workers=2)\n",
    "model = CNNNet(class_num=num_class).to(device)\n",
    "len(dataset)"
   ]
  },
  {
   "cell_type": "markdown",
   "metadata": {},
   "source": [
    "### 改变cnn"
   ]
  },
  {
   "cell_type": "code",
   "execution_count": 7,
   "metadata": {},
   "outputs": [],
   "source": [
    "import torchvision.models as models\n",
    "model.cnn_model =  models.densenet161(num_classes=128).to(device)\n",
    "# models 里面有很多CNN模型可以无脑调用， 就在这里稍微改一下"
   ]
  },
  {
   "cell_type": "code",
   "execution_count": 8,
   "metadata": {},
   "outputs": [],
   "source": [
    "model.load_state_dict(torch.load(\"./checkpoints/densenet_cnn_acc0.9966.pth\"))"
   ]
  },
  {
   "cell_type": "code",
   "execution_count": 9,
   "metadata": {},
   "outputs": [
    {
     "name": "stdout",
     "output_type": "stream",
     "text": [
      "cnn_model.features.conv0.weight\n",
      "cnn_model.features.norm0.weight\n",
      "cnn_model.features.norm0.bias\n",
      "cnn_model.features.denseblock1.denselayer1.norm1.weight\n",
      "cnn_model.features.denseblock1.denselayer1.norm1.bias\n",
      "cnn_model.features.denseblock1.denselayer1.conv1.weight\n",
      "cnn_model.features.denseblock1.denselayer1.norm2.weight\n",
      "cnn_model.features.denseblock1.denselayer1.norm2.bias\n",
      "cnn_model.features.denseblock1.denselayer1.conv2.weight\n",
      "cnn_model.features.denseblock1.denselayer2.norm1.weight\n",
      "cnn_model.features.denseblock1.denselayer2.norm1.bias\n",
      "cnn_model.features.denseblock1.denselayer2.conv1.weight\n",
      "cnn_model.features.denseblock1.denselayer2.norm2.weight\n",
      "cnn_model.features.denseblock1.denselayer2.norm2.bias\n",
      "cnn_model.features.denseblock1.denselayer2.conv2.weight\n",
      "cnn_model.features.denseblock1.denselayer3.norm1.weight\n",
      "cnn_model.features.denseblock1.denselayer3.norm1.bias\n",
      "cnn_model.features.denseblock1.denselayer3.conv1.weight\n",
      "cnn_model.features.denseblock1.denselayer3.norm2.weight\n",
      "cnn_model.features.denseblock1.denselayer3.norm2.bias\n",
      "cnn_model.features.denseblock1.denselayer3.conv2.weight\n",
      "cnn_model.features.denseblock1.denselayer4.norm1.weight\n",
      "cnn_model.features.denseblock1.denselayer4.norm1.bias\n",
      "cnn_model.features.denseblock1.denselayer4.conv1.weight\n",
      "cnn_model.features.denseblock1.denselayer4.norm2.weight\n",
      "cnn_model.features.denseblock1.denselayer4.norm2.bias\n",
      "cnn_model.features.denseblock1.denselayer4.conv2.weight\n",
      "cnn_model.features.denseblock1.denselayer5.norm1.weight\n",
      "cnn_model.features.denseblock1.denselayer5.norm1.bias\n",
      "cnn_model.features.denseblock1.denselayer5.conv1.weight\n",
      "cnn_model.features.denseblock1.denselayer5.norm2.weight\n",
      "cnn_model.features.denseblock1.denselayer5.norm2.bias\n",
      "cnn_model.features.denseblock1.denselayer5.conv2.weight\n",
      "cnn_model.features.denseblock1.denselayer6.norm1.weight\n",
      "cnn_model.features.denseblock1.denselayer6.norm1.bias\n",
      "cnn_model.features.denseblock1.denselayer6.conv1.weight\n",
      "cnn_model.features.denseblock1.denselayer6.norm2.weight\n",
      "cnn_model.features.denseblock1.denselayer6.norm2.bias\n",
      "cnn_model.features.denseblock1.denselayer6.conv2.weight\n",
      "cnn_model.features.transition1.norm.weight\n",
      "cnn_model.features.transition1.norm.bias\n",
      "cnn_model.features.transition1.conv.weight\n",
      "cnn_model.features.denseblock2.denselayer1.norm1.weight\n",
      "cnn_model.features.denseblock2.denselayer1.norm1.bias\n",
      "cnn_model.features.denseblock2.denselayer1.conv1.weight\n",
      "cnn_model.features.denseblock2.denselayer1.norm2.weight\n",
      "cnn_model.features.denseblock2.denselayer1.norm2.bias\n",
      "cnn_model.features.denseblock2.denselayer1.conv2.weight\n",
      "cnn_model.features.denseblock2.denselayer2.norm1.weight\n",
      "cnn_model.features.denseblock2.denselayer2.norm1.bias\n",
      "cnn_model.features.denseblock2.denselayer2.conv1.weight\n",
      "cnn_model.features.denseblock2.denselayer2.norm2.weight\n",
      "cnn_model.features.denseblock2.denselayer2.norm2.bias\n",
      "cnn_model.features.denseblock2.denselayer2.conv2.weight\n",
      "cnn_model.features.denseblock2.denselayer3.norm1.weight\n",
      "cnn_model.features.denseblock2.denselayer3.norm1.bias\n",
      "cnn_model.features.denseblock2.denselayer3.conv1.weight\n",
      "cnn_model.features.denseblock2.denselayer3.norm2.weight\n",
      "cnn_model.features.denseblock2.denselayer3.norm2.bias\n",
      "cnn_model.features.denseblock2.denselayer3.conv2.weight\n",
      "cnn_model.features.denseblock2.denselayer4.norm1.weight\n",
      "cnn_model.features.denseblock2.denselayer4.norm1.bias\n",
      "cnn_model.features.denseblock2.denselayer4.conv1.weight\n",
      "cnn_model.features.denseblock2.denselayer4.norm2.weight\n",
      "cnn_model.features.denseblock2.denselayer4.norm2.bias\n",
      "cnn_model.features.denseblock2.denselayer4.conv2.weight\n",
      "cnn_model.features.denseblock2.denselayer5.norm1.weight\n",
      "cnn_model.features.denseblock2.denselayer5.norm1.bias\n",
      "cnn_model.features.denseblock2.denselayer5.conv1.weight\n",
      "cnn_model.features.denseblock2.denselayer5.norm2.weight\n",
      "cnn_model.features.denseblock2.denselayer5.norm2.bias\n",
      "cnn_model.features.denseblock2.denselayer5.conv2.weight\n",
      "cnn_model.features.denseblock2.denselayer6.norm1.weight\n",
      "cnn_model.features.denseblock2.denselayer6.norm1.bias\n",
      "cnn_model.features.denseblock2.denselayer6.conv1.weight\n",
      "cnn_model.features.denseblock2.denselayer6.norm2.weight\n",
      "cnn_model.features.denseblock2.denselayer6.norm2.bias\n",
      "cnn_model.features.denseblock2.denselayer6.conv2.weight\n",
      "cnn_model.features.denseblock2.denselayer7.norm1.weight\n",
      "cnn_model.features.denseblock2.denselayer7.norm1.bias\n",
      "cnn_model.features.denseblock2.denselayer7.conv1.weight\n",
      "cnn_model.features.denseblock2.denselayer7.norm2.weight\n",
      "cnn_model.features.denseblock2.denselayer7.norm2.bias\n",
      "cnn_model.features.denseblock2.denselayer7.conv2.weight\n",
      "cnn_model.features.denseblock2.denselayer8.norm1.weight\n",
      "cnn_model.features.denseblock2.denselayer8.norm1.bias\n",
      "cnn_model.features.denseblock2.denselayer8.conv1.weight\n",
      "cnn_model.features.denseblock2.denselayer8.norm2.weight\n",
      "cnn_model.features.denseblock2.denselayer8.norm2.bias\n",
      "cnn_model.features.denseblock2.denselayer8.conv2.weight\n",
      "cnn_model.features.denseblock2.denselayer9.norm1.weight\n",
      "cnn_model.features.denseblock2.denselayer9.norm1.bias\n",
      "cnn_model.features.denseblock2.denselayer9.conv1.weight\n",
      "cnn_model.features.denseblock2.denselayer9.norm2.weight\n",
      "cnn_model.features.denseblock2.denselayer9.norm2.bias\n",
      "cnn_model.features.denseblock2.denselayer9.conv2.weight\n",
      "cnn_model.features.denseblock2.denselayer10.norm1.weight\n",
      "cnn_model.features.denseblock2.denselayer10.norm1.bias\n",
      "cnn_model.features.denseblock2.denselayer10.conv1.weight\n",
      "cnn_model.features.denseblock2.denselayer10.norm2.weight\n",
      "cnn_model.features.denseblock2.denselayer10.norm2.bias\n",
      "cnn_model.features.denseblock2.denselayer10.conv2.weight\n",
      "cnn_model.features.denseblock2.denselayer11.norm1.weight\n",
      "cnn_model.features.denseblock2.denselayer11.norm1.bias\n",
      "cnn_model.features.denseblock2.denselayer11.conv1.weight\n",
      "cnn_model.features.denseblock2.denselayer11.norm2.weight\n",
      "cnn_model.features.denseblock2.denselayer11.norm2.bias\n",
      "cnn_model.features.denseblock2.denselayer11.conv2.weight\n",
      "cnn_model.features.denseblock2.denselayer12.norm1.weight\n",
      "cnn_model.features.denseblock2.denselayer12.norm1.bias\n",
      "cnn_model.features.denseblock2.denselayer12.conv1.weight\n",
      "cnn_model.features.denseblock2.denselayer12.norm2.weight\n",
      "cnn_model.features.denseblock2.denselayer12.norm2.bias\n",
      "cnn_model.features.denseblock2.denselayer12.conv2.weight\n",
      "cnn_model.features.transition2.norm.weight\n",
      "cnn_model.features.transition2.norm.bias\n",
      "cnn_model.features.transition2.conv.weight\n",
      "cnn_model.features.denseblock3.denselayer1.norm1.weight\n",
      "cnn_model.features.denseblock3.denselayer1.norm1.bias\n",
      "cnn_model.features.denseblock3.denselayer1.conv1.weight\n",
      "cnn_model.features.denseblock3.denselayer1.norm2.weight\n",
      "cnn_model.features.denseblock3.denselayer1.norm2.bias\n",
      "cnn_model.features.denseblock3.denselayer1.conv2.weight\n",
      "cnn_model.features.denseblock3.denselayer2.norm1.weight\n",
      "cnn_model.features.denseblock3.denselayer2.norm1.bias\n",
      "cnn_model.features.denseblock3.denselayer2.conv1.weight\n",
      "cnn_model.features.denseblock3.denselayer2.norm2.weight\n",
      "cnn_model.features.denseblock3.denselayer2.norm2.bias\n",
      "cnn_model.features.denseblock3.denselayer2.conv2.weight\n",
      "cnn_model.features.denseblock3.denselayer3.norm1.weight\n",
      "cnn_model.features.denseblock3.denselayer3.norm1.bias\n",
      "cnn_model.features.denseblock3.denselayer3.conv1.weight\n",
      "cnn_model.features.denseblock3.denselayer3.norm2.weight\n",
      "cnn_model.features.denseblock3.denselayer3.norm2.bias\n",
      "cnn_model.features.denseblock3.denselayer3.conv2.weight\n",
      "cnn_model.features.denseblock3.denselayer4.norm1.weight\n",
      "cnn_model.features.denseblock3.denselayer4.norm1.bias\n",
      "cnn_model.features.denseblock3.denselayer4.conv1.weight\n",
      "cnn_model.features.denseblock3.denselayer4.norm2.weight\n",
      "cnn_model.features.denseblock3.denselayer4.norm2.bias\n",
      "cnn_model.features.denseblock3.denselayer4.conv2.weight\n",
      "cnn_model.features.denseblock3.denselayer5.norm1.weight\n",
      "cnn_model.features.denseblock3.denselayer5.norm1.bias\n",
      "cnn_model.features.denseblock3.denselayer5.conv1.weight\n",
      "cnn_model.features.denseblock3.denselayer5.norm2.weight\n",
      "cnn_model.features.denseblock3.denselayer5.norm2.bias\n",
      "cnn_model.features.denseblock3.denselayer5.conv2.weight\n",
      "cnn_model.features.denseblock3.denselayer6.norm1.weight\n",
      "cnn_model.features.denseblock3.denselayer6.norm1.bias\n",
      "cnn_model.features.denseblock3.denselayer6.conv1.weight\n",
      "cnn_model.features.denseblock3.denselayer6.norm2.weight\n",
      "cnn_model.features.denseblock3.denselayer6.norm2.bias\n",
      "cnn_model.features.denseblock3.denselayer6.conv2.weight\n",
      "cnn_model.features.denseblock3.denselayer7.norm1.weight\n",
      "cnn_model.features.denseblock3.denselayer7.norm1.bias\n",
      "cnn_model.features.denseblock3.denselayer7.conv1.weight\n",
      "cnn_model.features.denseblock3.denselayer7.norm2.weight\n",
      "cnn_model.features.denseblock3.denselayer7.norm2.bias\n",
      "cnn_model.features.denseblock3.denselayer7.conv2.weight\n",
      "cnn_model.features.denseblock3.denselayer8.norm1.weight\n",
      "cnn_model.features.denseblock3.denselayer8.norm1.bias\n",
      "cnn_model.features.denseblock3.denselayer8.conv1.weight\n",
      "cnn_model.features.denseblock3.denselayer8.norm2.weight\n",
      "cnn_model.features.denseblock3.denselayer8.norm2.bias\n",
      "cnn_model.features.denseblock3.denselayer8.conv2.weight\n",
      "cnn_model.features.denseblock3.denselayer9.norm1.weight\n",
      "cnn_model.features.denseblock3.denselayer9.norm1.bias\n",
      "cnn_model.features.denseblock3.denselayer9.conv1.weight\n",
      "cnn_model.features.denseblock3.denselayer9.norm2.weight\n",
      "cnn_model.features.denseblock3.denselayer9.norm2.bias\n",
      "cnn_model.features.denseblock3.denselayer9.conv2.weight\n",
      "cnn_model.features.denseblock3.denselayer10.norm1.weight\n",
      "cnn_model.features.denseblock3.denselayer10.norm1.bias\n",
      "cnn_model.features.denseblock3.denselayer10.conv1.weight\n",
      "cnn_model.features.denseblock3.denselayer10.norm2.weight\n",
      "cnn_model.features.denseblock3.denselayer10.norm2.bias\n",
      "cnn_model.features.denseblock3.denselayer10.conv2.weight\n",
      "cnn_model.features.denseblock3.denselayer11.norm1.weight\n",
      "cnn_model.features.denseblock3.denselayer11.norm1.bias\n",
      "cnn_model.features.denseblock3.denselayer11.conv1.weight\n",
      "cnn_model.features.denseblock3.denselayer11.norm2.weight\n",
      "cnn_model.features.denseblock3.denselayer11.norm2.bias\n",
      "cnn_model.features.denseblock3.denselayer11.conv2.weight\n",
      "cnn_model.features.denseblock3.denselayer12.norm1.weight\n",
      "cnn_model.features.denseblock3.denselayer12.norm1.bias\n",
      "cnn_model.features.denseblock3.denselayer12.conv1.weight\n",
      "cnn_model.features.denseblock3.denselayer12.norm2.weight\n",
      "cnn_model.features.denseblock3.denselayer12.norm2.bias\n",
      "cnn_model.features.denseblock3.denselayer12.conv2.weight\n",
      "cnn_model.features.denseblock3.denselayer13.norm1.weight\n",
      "cnn_model.features.denseblock3.denselayer13.norm1.bias\n",
      "cnn_model.features.denseblock3.denselayer13.conv1.weight\n",
      "cnn_model.features.denseblock3.denselayer13.norm2.weight\n",
      "cnn_model.features.denseblock3.denselayer13.norm2.bias\n",
      "cnn_model.features.denseblock3.denselayer13.conv2.weight\n",
      "cnn_model.features.denseblock3.denselayer14.norm1.weight\n",
      "cnn_model.features.denseblock3.denselayer14.norm1.bias\n",
      "cnn_model.features.denseblock3.denselayer14.conv1.weight\n",
      "cnn_model.features.denseblock3.denselayer14.norm2.weight\n",
      "cnn_model.features.denseblock3.denselayer14.norm2.bias\n",
      "cnn_model.features.denseblock3.denselayer14.conv2.weight\n",
      "cnn_model.features.denseblock3.denselayer15.norm1.weight\n",
      "cnn_model.features.denseblock3.denselayer15.norm1.bias\n",
      "cnn_model.features.denseblock3.denselayer15.conv1.weight\n",
      "cnn_model.features.denseblock3.denselayer15.norm2.weight\n",
      "cnn_model.features.denseblock3.denselayer15.norm2.bias\n",
      "cnn_model.features.denseblock3.denselayer15.conv2.weight\n",
      "cnn_model.features.denseblock3.denselayer16.norm1.weight\n",
      "cnn_model.features.denseblock3.denselayer16.norm1.bias\n",
      "cnn_model.features.denseblock3.denselayer16.conv1.weight\n",
      "cnn_model.features.denseblock3.denselayer16.norm2.weight\n",
      "cnn_model.features.denseblock3.denselayer16.norm2.bias\n",
      "cnn_model.features.denseblock3.denselayer16.conv2.weight\n",
      "cnn_model.features.denseblock3.denselayer17.norm1.weight\n",
      "cnn_model.features.denseblock3.denselayer17.norm1.bias\n",
      "cnn_model.features.denseblock3.denselayer17.conv1.weight\n",
      "cnn_model.features.denseblock3.denselayer17.norm2.weight\n",
      "cnn_model.features.denseblock3.denselayer17.norm2.bias\n",
      "cnn_model.features.denseblock3.denselayer17.conv2.weight\n",
      "cnn_model.features.denseblock3.denselayer18.norm1.weight\n",
      "cnn_model.features.denseblock3.denselayer18.norm1.bias\n",
      "cnn_model.features.denseblock3.denselayer18.conv1.weight\n",
      "cnn_model.features.denseblock3.denselayer18.norm2.weight\n",
      "cnn_model.features.denseblock3.denselayer18.norm2.bias\n",
      "cnn_model.features.denseblock3.denselayer18.conv2.weight\n",
      "cnn_model.features.denseblock3.denselayer19.norm1.weight\n",
      "cnn_model.features.denseblock3.denselayer19.norm1.bias\n",
      "cnn_model.features.denseblock3.denselayer19.conv1.weight\n",
      "cnn_model.features.denseblock3.denselayer19.norm2.weight\n",
      "cnn_model.features.denseblock3.denselayer19.norm2.bias\n",
      "cnn_model.features.denseblock3.denselayer19.conv2.weight\n",
      "cnn_model.features.denseblock3.denselayer20.norm1.weight\n",
      "cnn_model.features.denseblock3.denselayer20.norm1.bias\n",
      "cnn_model.features.denseblock3.denselayer20.conv1.weight\n",
      "cnn_model.features.denseblock3.denselayer20.norm2.weight\n",
      "cnn_model.features.denseblock3.denselayer20.norm2.bias\n",
      "cnn_model.features.denseblock3.denselayer20.conv2.weight\n",
      "cnn_model.features.denseblock3.denselayer21.norm1.weight\n",
      "cnn_model.features.denseblock3.denselayer21.norm1.bias\n",
      "cnn_model.features.denseblock3.denselayer21.conv1.weight\n",
      "cnn_model.features.denseblock3.denselayer21.norm2.weight\n",
      "cnn_model.features.denseblock3.denselayer21.norm2.bias\n",
      "cnn_model.features.denseblock3.denselayer21.conv2.weight\n",
      "cnn_model.features.denseblock3.denselayer22.norm1.weight\n",
      "cnn_model.features.denseblock3.denselayer22.norm1.bias\n",
      "cnn_model.features.denseblock3.denselayer22.conv1.weight\n",
      "cnn_model.features.denseblock3.denselayer22.norm2.weight\n",
      "cnn_model.features.denseblock3.denselayer22.norm2.bias\n",
      "cnn_model.features.denseblock3.denselayer22.conv2.weight\n",
      "cnn_model.features.denseblock3.denselayer23.norm1.weight\n",
      "cnn_model.features.denseblock3.denselayer23.norm1.bias\n",
      "cnn_model.features.denseblock3.denselayer23.conv1.weight\n",
      "cnn_model.features.denseblock3.denselayer23.norm2.weight\n",
      "cnn_model.features.denseblock3.denselayer23.norm2.bias\n",
      "cnn_model.features.denseblock3.denselayer23.conv2.weight\n",
      "cnn_model.features.denseblock3.denselayer24.norm1.weight\n",
      "cnn_model.features.denseblock3.denselayer24.norm1.bias\n",
      "cnn_model.features.denseblock3.denselayer24.conv1.weight\n",
      "cnn_model.features.denseblock3.denselayer24.norm2.weight\n",
      "cnn_model.features.denseblock3.denselayer24.norm2.bias\n",
      "cnn_model.features.denseblock3.denselayer24.conv2.weight\n",
      "cnn_model.features.denseblock3.denselayer25.norm1.weight\n",
      "cnn_model.features.denseblock3.denselayer25.norm1.bias\n",
      "cnn_model.features.denseblock3.denselayer25.conv1.weight\n",
      "cnn_model.features.denseblock3.denselayer25.norm2.weight\n",
      "cnn_model.features.denseblock3.denselayer25.norm2.bias\n",
      "cnn_model.features.denseblock3.denselayer25.conv2.weight\n",
      "cnn_model.features.denseblock3.denselayer26.norm1.weight\n",
      "cnn_model.features.denseblock3.denselayer26.norm1.bias\n",
      "cnn_model.features.denseblock3.denselayer26.conv1.weight\n",
      "cnn_model.features.denseblock3.denselayer26.norm2.weight\n",
      "cnn_model.features.denseblock3.denselayer26.norm2.bias\n",
      "cnn_model.features.denseblock3.denselayer26.conv2.weight\n",
      "cnn_model.features.denseblock3.denselayer27.norm1.weight\n",
      "cnn_model.features.denseblock3.denselayer27.norm1.bias\n",
      "cnn_model.features.denseblock3.denselayer27.conv1.weight\n",
      "cnn_model.features.denseblock3.denselayer27.norm2.weight\n",
      "cnn_model.features.denseblock3.denselayer27.norm2.bias\n",
      "cnn_model.features.denseblock3.denselayer27.conv2.weight\n",
      "cnn_model.features.denseblock3.denselayer28.norm1.weight\n",
      "cnn_model.features.denseblock3.denselayer28.norm1.bias\n",
      "cnn_model.features.denseblock3.denselayer28.conv1.weight\n",
      "cnn_model.features.denseblock3.denselayer28.norm2.weight\n",
      "cnn_model.features.denseblock3.denselayer28.norm2.bias\n",
      "cnn_model.features.denseblock3.denselayer28.conv2.weight\n",
      "cnn_model.features.denseblock3.denselayer29.norm1.weight\n",
      "cnn_model.features.denseblock3.denselayer29.norm1.bias\n",
      "cnn_model.features.denseblock3.denselayer29.conv1.weight\n",
      "cnn_model.features.denseblock3.denselayer29.norm2.weight\n",
      "cnn_model.features.denseblock3.denselayer29.norm2.bias\n",
      "cnn_model.features.denseblock3.denselayer29.conv2.weight\n",
      "cnn_model.features.denseblock3.denselayer30.norm1.weight\n",
      "cnn_model.features.denseblock3.denselayer30.norm1.bias\n",
      "cnn_model.features.denseblock3.denselayer30.conv1.weight\n",
      "cnn_model.features.denseblock3.denselayer30.norm2.weight\n",
      "cnn_model.features.denseblock3.denselayer30.norm2.bias\n",
      "cnn_model.features.denseblock3.denselayer30.conv2.weight\n",
      "cnn_model.features.denseblock3.denselayer31.norm1.weight\n",
      "cnn_model.features.denseblock3.denselayer31.norm1.bias\n",
      "cnn_model.features.denseblock3.denselayer31.conv1.weight\n",
      "cnn_model.features.denseblock3.denselayer31.norm2.weight\n",
      "cnn_model.features.denseblock3.denselayer31.norm2.bias\n",
      "cnn_model.features.denseblock3.denselayer31.conv2.weight\n",
      "cnn_model.features.denseblock3.denselayer32.norm1.weight\n",
      "cnn_model.features.denseblock3.denselayer32.norm1.bias\n",
      "cnn_model.features.denseblock3.denselayer32.conv1.weight\n",
      "cnn_model.features.denseblock3.denselayer32.norm2.weight\n",
      "cnn_model.features.denseblock3.denselayer32.norm2.bias\n",
      "cnn_model.features.denseblock3.denselayer32.conv2.weight\n",
      "cnn_model.features.denseblock3.denselayer33.norm1.weight\n",
      "cnn_model.features.denseblock3.denselayer33.norm1.bias\n",
      "cnn_model.features.denseblock3.denselayer33.conv1.weight\n",
      "cnn_model.features.denseblock3.denselayer33.norm2.weight\n",
      "cnn_model.features.denseblock3.denselayer33.norm2.bias\n",
      "cnn_model.features.denseblock3.denselayer33.conv2.weight\n",
      "cnn_model.features.denseblock3.denselayer34.norm1.weight\n",
      "cnn_model.features.denseblock3.denselayer34.norm1.bias\n",
      "cnn_model.features.denseblock3.denselayer34.conv1.weight\n",
      "cnn_model.features.denseblock3.denselayer34.norm2.weight\n",
      "cnn_model.features.denseblock3.denselayer34.norm2.bias\n",
      "cnn_model.features.denseblock3.denselayer34.conv2.weight\n",
      "cnn_model.features.denseblock3.denselayer35.norm1.weight\n",
      "cnn_model.features.denseblock3.denselayer35.norm1.bias\n",
      "cnn_model.features.denseblock3.denselayer35.conv1.weight\n",
      "cnn_model.features.denseblock3.denselayer35.norm2.weight\n",
      "cnn_model.features.denseblock3.denselayer35.norm2.bias\n",
      "cnn_model.features.denseblock3.denselayer35.conv2.weight\n",
      "cnn_model.features.denseblock3.denselayer36.norm1.weight\n",
      "cnn_model.features.denseblock3.denselayer36.norm1.bias\n",
      "cnn_model.features.denseblock3.denselayer36.conv1.weight\n",
      "cnn_model.features.denseblock3.denselayer36.norm2.weight\n",
      "cnn_model.features.denseblock3.denselayer36.norm2.bias\n",
      "cnn_model.features.denseblock3.denselayer36.conv2.weight\n",
      "cnn_model.features.transition3.norm.weight\n",
      "cnn_model.features.transition3.norm.bias\n",
      "cnn_model.features.transition3.conv.weight\n",
      "cnn_model.features.denseblock4.denselayer1.norm1.weight\n",
      "cnn_model.features.denseblock4.denselayer1.norm1.bias\n",
      "cnn_model.features.denseblock4.denselayer1.conv1.weight\n",
      "cnn_model.features.denseblock4.denselayer1.norm2.weight\n",
      "cnn_model.features.denseblock4.denselayer1.norm2.bias\n",
      "cnn_model.features.denseblock4.denselayer1.conv2.weight\n",
      "cnn_model.features.denseblock4.denselayer2.norm1.weight\n",
      "cnn_model.features.denseblock4.denselayer2.norm1.bias\n",
      "cnn_model.features.denseblock4.denselayer2.conv1.weight\n",
      "cnn_model.features.denseblock4.denselayer2.norm2.weight\n",
      "cnn_model.features.denseblock4.denselayer2.norm2.bias\n",
      "cnn_model.features.denseblock4.denselayer2.conv2.weight\n",
      "cnn_model.features.denseblock4.denselayer3.norm1.weight\n",
      "cnn_model.features.denseblock4.denselayer3.norm1.bias\n",
      "cnn_model.features.denseblock4.denselayer3.conv1.weight\n",
      "cnn_model.features.denseblock4.denselayer3.norm2.weight\n",
      "cnn_model.features.denseblock4.denselayer3.norm2.bias\n",
      "cnn_model.features.denseblock4.denselayer3.conv2.weight\n",
      "cnn_model.features.denseblock4.denselayer4.norm1.weight\n",
      "cnn_model.features.denseblock4.denselayer4.norm1.bias\n",
      "cnn_model.features.denseblock4.denselayer4.conv1.weight\n",
      "cnn_model.features.denseblock4.denselayer4.norm2.weight\n",
      "cnn_model.features.denseblock4.denselayer4.norm2.bias\n",
      "cnn_model.features.denseblock4.denselayer4.conv2.weight\n",
      "cnn_model.features.denseblock4.denselayer5.norm1.weight\n",
      "cnn_model.features.denseblock4.denselayer5.norm1.bias\n",
      "cnn_model.features.denseblock4.denselayer5.conv1.weight\n",
      "cnn_model.features.denseblock4.denselayer5.norm2.weight\n",
      "cnn_model.features.denseblock4.denselayer5.norm2.bias\n",
      "cnn_model.features.denseblock4.denselayer5.conv2.weight\n",
      "cnn_model.features.denseblock4.denselayer6.norm1.weight\n",
      "cnn_model.features.denseblock4.denselayer6.norm1.bias\n",
      "cnn_model.features.denseblock4.denselayer6.conv1.weight\n",
      "cnn_model.features.denseblock4.denselayer6.norm2.weight\n",
      "cnn_model.features.denseblock4.denselayer6.norm2.bias\n",
      "cnn_model.features.denseblock4.denselayer6.conv2.weight\n",
      "cnn_model.features.denseblock4.denselayer7.norm1.weight\n",
      "cnn_model.features.denseblock4.denselayer7.norm1.bias\n",
      "cnn_model.features.denseblock4.denselayer7.conv1.weight\n",
      "cnn_model.features.denseblock4.denselayer7.norm2.weight\n",
      "cnn_model.features.denseblock4.denselayer7.norm2.bias\n",
      "cnn_model.features.denseblock4.denselayer7.conv2.weight\n",
      "cnn_model.features.denseblock4.denselayer8.norm1.weight\n",
      "cnn_model.features.denseblock4.denselayer8.norm1.bias\n",
      "cnn_model.features.denseblock4.denselayer8.conv1.weight\n",
      "cnn_model.features.denseblock4.denselayer8.norm2.weight\n",
      "cnn_model.features.denseblock4.denselayer8.norm2.bias\n",
      "cnn_model.features.denseblock4.denselayer8.conv2.weight\n",
      "cnn_model.features.denseblock4.denselayer9.norm1.weight\n",
      "cnn_model.features.denseblock4.denselayer9.norm1.bias\n",
      "cnn_model.features.denseblock4.denselayer9.conv1.weight\n",
      "cnn_model.features.denseblock4.denselayer9.norm2.weight\n",
      "cnn_model.features.denseblock4.denselayer9.norm2.bias\n",
      "cnn_model.features.denseblock4.denselayer9.conv2.weight\n",
      "cnn_model.features.denseblock4.denselayer10.norm1.weight\n",
      "cnn_model.features.denseblock4.denselayer10.norm1.bias\n",
      "cnn_model.features.denseblock4.denselayer10.conv1.weight\n",
      "cnn_model.features.denseblock4.denselayer10.norm2.weight\n",
      "cnn_model.features.denseblock4.denselayer10.norm2.bias\n",
      "cnn_model.features.denseblock4.denselayer10.conv2.weight\n",
      "cnn_model.features.denseblock4.denselayer11.norm1.weight\n",
      "cnn_model.features.denseblock4.denselayer11.norm1.bias\n",
      "cnn_model.features.denseblock4.denselayer11.conv1.weight\n",
      "cnn_model.features.denseblock4.denselayer11.norm2.weight\n",
      "cnn_model.features.denseblock4.denselayer11.norm2.bias\n",
      "cnn_model.features.denseblock4.denselayer11.conv2.weight\n",
      "cnn_model.features.denseblock4.denselayer12.norm1.weight\n",
      "cnn_model.features.denseblock4.denselayer12.norm1.bias\n",
      "cnn_model.features.denseblock4.denselayer12.conv1.weight\n",
      "cnn_model.features.denseblock4.denselayer12.norm2.weight\n",
      "cnn_model.features.denseblock4.denselayer12.norm2.bias\n",
      "cnn_model.features.denseblock4.denselayer12.conv2.weight\n",
      "cnn_model.features.denseblock4.denselayer13.norm1.weight\n",
      "cnn_model.features.denseblock4.denselayer13.norm1.bias\n",
      "cnn_model.features.denseblock4.denselayer13.conv1.weight\n",
      "cnn_model.features.denseblock4.denselayer13.norm2.weight\n",
      "cnn_model.features.denseblock4.denselayer13.norm2.bias\n",
      "cnn_model.features.denseblock4.denselayer13.conv2.weight\n",
      "cnn_model.features.denseblock4.denselayer14.norm1.weight\n",
      "cnn_model.features.denseblock4.denselayer14.norm1.bias\n",
      "cnn_model.features.denseblock4.denselayer14.conv1.weight\n",
      "cnn_model.features.denseblock4.denselayer14.norm2.weight\n",
      "cnn_model.features.denseblock4.denselayer14.norm2.bias\n",
      "cnn_model.features.denseblock4.denselayer14.conv2.weight\n",
      "cnn_model.features.denseblock4.denselayer15.norm1.weight\n",
      "cnn_model.features.denseblock4.denselayer15.norm1.bias\n",
      "cnn_model.features.denseblock4.denselayer15.conv1.weight\n",
      "cnn_model.features.denseblock4.denselayer15.norm2.weight\n",
      "cnn_model.features.denseblock4.denselayer15.norm2.bias\n",
      "cnn_model.features.denseblock4.denselayer15.conv2.weight\n",
      "cnn_model.features.denseblock4.denselayer16.norm1.weight\n",
      "cnn_model.features.denseblock4.denselayer16.norm1.bias\n",
      "cnn_model.features.denseblock4.denselayer16.conv1.weight\n",
      "cnn_model.features.denseblock4.denselayer16.norm2.weight\n",
      "cnn_model.features.denseblock4.denselayer16.norm2.bias\n",
      "cnn_model.features.denseblock4.denselayer16.conv2.weight\n",
      "cnn_model.features.denseblock4.denselayer17.norm1.weight\n",
      "cnn_model.features.denseblock4.denselayer17.norm1.bias\n",
      "cnn_model.features.denseblock4.denselayer17.conv1.weight\n",
      "cnn_model.features.denseblock4.denselayer17.norm2.weight\n",
      "cnn_model.features.denseblock4.denselayer17.norm2.bias\n",
      "cnn_model.features.denseblock4.denselayer17.conv2.weight\n",
      "cnn_model.features.denseblock4.denselayer18.norm1.weight\n",
      "cnn_model.features.denseblock4.denselayer18.norm1.bias\n",
      "cnn_model.features.denseblock4.denselayer18.conv1.weight\n",
      "cnn_model.features.denseblock4.denselayer18.norm2.weight\n",
      "cnn_model.features.denseblock4.denselayer18.norm2.bias\n",
      "cnn_model.features.denseblock4.denselayer18.conv2.weight\n",
      "cnn_model.features.denseblock4.denselayer19.norm1.weight\n",
      "cnn_model.features.denseblock4.denselayer19.norm1.bias\n",
      "cnn_model.features.denseblock4.denselayer19.conv1.weight\n",
      "cnn_model.features.denseblock4.denselayer19.norm2.weight\n",
      "cnn_model.features.denseblock4.denselayer19.norm2.bias\n",
      "cnn_model.features.denseblock4.denselayer19.conv2.weight\n",
      "cnn_model.features.denseblock4.denselayer20.norm1.weight\n",
      "cnn_model.features.denseblock4.denselayer20.norm1.bias\n",
      "cnn_model.features.denseblock4.denselayer20.conv1.weight\n",
      "cnn_model.features.denseblock4.denselayer20.norm2.weight\n",
      "cnn_model.features.denseblock4.denselayer20.norm2.bias\n",
      "cnn_model.features.denseblock4.denselayer20.conv2.weight\n",
      "cnn_model.features.denseblock4.denselayer21.norm1.weight\n",
      "cnn_model.features.denseblock4.denselayer21.norm1.bias\n",
      "cnn_model.features.denseblock4.denselayer21.conv1.weight\n",
      "cnn_model.features.denseblock4.denselayer21.norm2.weight\n",
      "cnn_model.features.denseblock4.denselayer21.norm2.bias\n",
      "cnn_model.features.denseblock4.denselayer21.conv2.weight\n",
      "cnn_model.features.denseblock4.denselayer22.norm1.weight\n",
      "cnn_model.features.denseblock4.denselayer22.norm1.bias\n",
      "cnn_model.features.denseblock4.denselayer22.conv1.weight\n",
      "cnn_model.features.denseblock4.denselayer22.norm2.weight\n",
      "cnn_model.features.denseblock4.denselayer22.norm2.bias\n",
      "cnn_model.features.denseblock4.denselayer22.conv2.weight\n",
      "cnn_model.features.denseblock4.denselayer23.norm1.weight\n",
      "cnn_model.features.denseblock4.denselayer23.norm1.bias\n",
      "cnn_model.features.denseblock4.denselayer23.conv1.weight\n",
      "cnn_model.features.denseblock4.denselayer23.norm2.weight\n",
      "cnn_model.features.denseblock4.denselayer23.norm2.bias\n",
      "cnn_model.features.denseblock4.denselayer23.conv2.weight\n",
      "cnn_model.features.denseblock4.denselayer24.norm1.weight\n",
      "cnn_model.features.denseblock4.denselayer24.norm1.bias\n",
      "cnn_model.features.denseblock4.denselayer24.conv1.weight\n",
      "cnn_model.features.denseblock4.denselayer24.norm2.weight\n",
      "cnn_model.features.denseblock4.denselayer24.norm2.bias\n",
      "cnn_model.features.denseblock4.denselayer24.conv2.weight\n",
      "cnn_model.features.norm5.weight\n",
      "cnn_model.features.norm5.bias\n",
      "cnn_model.classifier.weight\n",
      "cnn_model.classifier.bias\n",
      "fc.weight\n",
      "fc.bias\n"
     ]
    }
   ],
   "source": [
    "model = model.train()\n",
    "for name, param in model.named_parameters():\n",
    "    if param.requires_grad:\n",
    "        print(name)\n",
    "\n",
    "        acc_max = 0"
   ]
  },
  {
   "cell_type": "code",
   "execution_count": null,
   "metadata": {},
   "outputs": [
    {
     "data": {
      "application/vnd.jupyter.widget-view+json": {
       "model_id": "78cce7f331184eacab15be9c13ec443f",
       "version_major": 2,
       "version_minor": 0
      },
      "text/plain": [
       "HBox(children=(IntProgress(value=0, max=19938), HTML(value='')))"
      ]
     },
     "metadata": {},
     "output_type": "display_data"
    },
    {
     "name": "stdout",
     "output_type": "stream",
     "text": [
      "\n"
     ]
    },
    {
     "data": {
      "application/vnd.jupyter.widget-view+json": {
       "model_id": "4114700c599b44f59a1d35ecdefaee42",
       "version_major": 2,
       "version_minor": 0
      },
      "text/plain": [
       "HBox(children=(IntProgress(value=0, max=19938), HTML(value='')))"
      ]
     },
     "metadata": {},
     "output_type": "display_data"
    },
    {
     "name": "stdout",
     "output_type": "stream",
     "text": [
      "\n"
     ]
    },
    {
     "data": {
      "application/vnd.jupyter.widget-view+json": {
       "model_id": "6646d2a3415444bbb6a5ba1ef73ca5e6",
       "version_major": 2,
       "version_minor": 0
      },
      "text/plain": [
       "HBox(children=(IntProgress(value=0, max=19938), HTML(value='')))"
      ]
     },
     "metadata": {},
     "output_type": "display_data"
    },
    {
     "name": "stdout",
     "output_type": "stream",
     "text": [
      "\n"
     ]
    },
    {
     "data": {
      "application/vnd.jupyter.widget-view+json": {
       "model_id": "ae7b01829c6d48c98cbfb8c98e0850ab",
       "version_major": 2,
       "version_minor": 0
      },
      "text/plain": [
       "HBox(children=(IntProgress(value=0, max=19938), HTML(value='')))"
      ]
     },
     "metadata": {},
     "output_type": "display_data"
    },
    {
     "name": "stdout",
     "output_type": "stream",
     "text": [
      "\n"
     ]
    },
    {
     "data": {
      "application/vnd.jupyter.widget-view+json": {
       "model_id": "8a75a85ae5614895a26acabccbb3f02d",
       "version_major": 2,
       "version_minor": 0
      },
      "text/plain": [
       "HBox(children=(IntProgress(value=0, max=19938), HTML(value='')))"
      ]
     },
     "metadata": {},
     "output_type": "display_data"
    },
    {
     "name": "stdout",
     "output_type": "stream",
     "text": [
      "\n"
     ]
    },
    {
     "data": {
      "application/vnd.jupyter.widget-view+json": {
       "model_id": "be503a5a248e496a93f8f513d277edaa",
       "version_major": 2,
       "version_minor": 0
      },
      "text/plain": [
       "HBox(children=(IntProgress(value=0, max=19938), HTML(value='')))"
      ]
     },
     "metadata": {},
     "output_type": "display_data"
    },
    {
     "name": "stdout",
     "output_type": "stream",
     "text": [
      "\n"
     ]
    },
    {
     "data": {
      "application/vnd.jupyter.widget-view+json": {
       "model_id": "30bed947cae04f518a9f2276af2fca5e",
       "version_major": 2,
       "version_minor": 0
      },
      "text/plain": [
       "HBox(children=(IntProgress(value=0, max=19938), HTML(value='')))"
      ]
     },
     "metadata": {},
     "output_type": "display_data"
    }
   ],
   "source": [
    "# model.init_weights()\n",
    "acc_max = 0\n",
    "# optimizer = torch.optim.Adadelta(model.parameters(),lr=0.05)\n",
    "optimizer =torch.optim.RMSprop(model.parameters(),lr=0.005)\n",
    "# optimizer=torch.optim.Adagrad(model.parameters(), lr=0.0005, lr_decay=0, weight_decay=0, initial_accumulator_value=0)\n",
    "for epoch in range(300):\n",
    "    total_loss = 0\n",
    "    total_acc = 0\n",
    "    total_size = 0\n",
    "    bar = tqdm(dataload)\n",
    "    for i, (x, y, _) in enumerate(bar):\n",
    "        optimizer.zero_grad()\n",
    "        x, y = x.to(device), y.to(device)\n",
    "        # label=y.unsqueeze(1)\n",
    "        # In your for loop\n",
    "        # label_one_hot.scatter_(1, label, 1)\n",
    "        loss, acc_num = model.process(x, y)\n",
    "        total_size += x.size(0)\n",
    "        loss.backward()\n",
    "        optimizer.step()\n",
    "        # b=pred.item()\n",
    "        total_acc += acc_num\n",
    "        total_loss += loss.item()\n",
    "\n",
    "        bar.set_postfix(loss=f\"{total_loss/(i+1):0.4f}\",\n",
    "                        acc=f\"{total_acc/total_size:0.4f}\",\n",
    "                        epoch=f\"{epoch+1}\")\n",
    "    acc = total_acc / total_size\n",
    "    torch.save(model.state_dict(), \"densenet_cnn.pth\")\n",
    "    if acc_max < acc:\n",
    "        acc_max = max(total_acc / total_size, acc_max)\n",
    "        torch.save(model.state_dict(), f\"./checkpoints/densenet_cnn_acc{acc_max:0.4f}.pth\")\n",
    "#     if acc>0.8:\n",
    "#         optimizer = torch.optim.Adadelta(model.parameters(),lr=1-acc)"
   ]
  },
  {
   "cell_type": "code",
   "execution_count": null,
   "metadata": {},
   "outputs": [],
   "source": []
  }
 ],
 "metadata": {
  "kernelspec": {
   "display_name": "Python 3",
   "language": "python",
   "name": "python3"
  },
  "language_info": {
   "codemirror_mode": {
    "name": "ipython",
    "version": 3
   },
   "file_extension": ".py",
   "mimetype": "text/x-python",
   "name": "python",
   "nbconvert_exporter": "python",
   "pygments_lexer": "ipython3",
   "version": "3.6.8"
  }
 },
 "nbformat": 4,
 "nbformat_minor": 2
}
